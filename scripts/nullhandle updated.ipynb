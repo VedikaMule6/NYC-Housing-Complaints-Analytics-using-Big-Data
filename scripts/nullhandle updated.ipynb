{
 "cells": [
  {
   "cell_type": "code",
   "execution_count": 1,
   "metadata": {},
   "outputs": [
    {
     "name": "stdout",
     "output_type": "stream",
     "text": [
      "Starting Spark application\n"
     ]
    },
    {
     "data": {
      "text/html": [
       "<table>\n",
       "<tr><th>ID</th><th>YARN Application ID</th><th>Kind</th><th>State</th><th>Spark UI</th><th>Driver log</th><th>Current session?</th></tr><tr><td>0</td><td>application_1753856736049_0001</td><td>pyspark</td><td>idle</td><td><a target=\"_blank\" href=\"http://ip-172-31-8-5.ec2.internal:20888/proxy/application_1753856736049_0001/\">Link</a></td><td><a target=\"_blank\" href=\"http://ip-172-31-9-74.ec2.internal:8042/node/containerlogs/container_1753856736049_0001_01_000001/livy\">Link</a></td><td>✔</td></tr></table>"
      ],
      "text/plain": [
       "<IPython.core.display.HTML object>"
      ]
     },
     "metadata": {},
     "output_type": "display_data"
    },
    {
     "data": {
      "application/vnd.jupyter.widget-view+json": {
       "model_id": "",
       "version_major": 2,
       "version_minor": 0
      },
      "text/plain": [
       "FloatProgress(value=0.0, bar_style='info', description='Progress:', layout=Layout(height='25px', width='50%'),…"
      ]
     },
     "metadata": {},
     "output_type": "display_data"
    },
    {
     "name": "stdout",
     "output_type": "stream",
     "text": [
      "SparkSession available as 'spark'.\n"
     ]
    },
    {
     "data": {
      "application/vnd.jupyter.widget-view+json": {
       "model_id": "",
       "version_major": 2,
       "version_minor": 0
      },
      "text/plain": [
       "FloatProgress(value=0.0, bar_style='info', description='Progress:', layout=Layout(height='25px', width='50%'),…"
      ]
     },
     "metadata": {},
     "output_type": "display_data"
    }
   ],
   "source": [
    "import pyspark"
   ]
  },
  {
   "cell_type": "code",
   "execution_count": 2,
   "metadata": {},
   "outputs": [
    {
     "data": {
      "application/vnd.jupyter.widget-view+json": {
       "model_id": "",
       "version_major": 2,
       "version_minor": 0
      },
      "text/plain": [
       "FloatProgress(value=0.0, bar_style='info', description='Progress:', layout=Layout(height='25px', width='50%'),…"
      ]
     },
     "metadata": {},
     "output_type": "display_data"
    },
    {
     "name": "stdout",
     "output_type": "stream",
     "text": [
      "+----------+--------------------+--------------------+-------------------+-------------------+--------------------+------------+--------------------+------+----------+-----------+------------+--------+--------------------+-----------------+------------------+----------+---------+-------+-------+--------------------+---------+---------+--------------------+-------+--------+-------+-------+--------+----------+---------+---------+----------+----------+---------+--------+--------------+---------------+------------+\n",
      "|Unique_Key|        Created_Date|         Closed_Date| created_date_stand|  closed_date_stand|      complaint_type|  Descriptor|  complaint_category|Status|validation|    borough|Incident_Zip|    City|        full_address|         Latitude|         Longitude|       bbl|tax_block|tax_lot|landuse|    landuse_category|bldgclass|ownertype|           ownername|lotarea|bldgarea|resarea|comarea|unitsres|unitstotal|numfloors|yearbuilt|yearalter1|yearalter2|zonedist1|overlay1|latitude_pluto|longitude_pluto|bbl_standard|\n",
      "+----------+--------------------+--------------------+-------------------+-------------------+--------------------+------------+--------------------+------+----------+-----------+------------+--------+--------------------+-----------------+------------------+----------+---------+-------+-------+--------------------+---------+---------+--------------------+-------+--------+-------+-------+--------+----------+---------+---------+----------+----------+---------+--------+--------------+---------------+------------+\n",
      "|  18802221|09/30/2010 12:00:...|10/13/2010 12:00:...|2010-09-30 00:00:00|2010-10-13 00:00:00|general construction|        MOLD|        CONSTRUCTION|Closed|         1|Unspecified|       10280|NEW YORK|50 battery place ...|40.70628322913576|-74.01790411531843|1000160015|    00016|   0015|      3|Multi-Family Elev...|       D8|        X|DEMATTEIS BATTERY...|  31141|239165.0| 230765|   8400|     208|       209|        9|     1998|         0|         0|      BPC|    null|    40.7066674|    -74.0181639| MN000160015|\n",
      "|  59212893|10/24/2023 11:03:...|10/30/2023 02:59:...|2023-10-24 11:03:27|2023-10-30 14:59:35|         door/window|WINDOW FRAME|         DOOR_WINDOW|Closed|         1|  MANHATTAN|       10280|NEW YORK|50 battery place ...|40.70628322913576|-74.01790411531843|1000160015|    00016|   0015|      3|Multi-Family Elev...|       D8|        X|DEMATTEIS BATTERY...|  31141|239165.0| 230765|   8400|     208|       209|        9|     1998|         0|         0|      BPC|    null|    40.7066674|    -74.0181639| MN000160015|\n",
      "|  60872112|04/15/2024 06:05:...|04/16/2024 03:02:...|2024-04-15 18:05:57|2024-04-16 15:02:52|            plumbing|WATER SUPPLY|      PLUMBING_ISSUE|Closed|         1|  MANHATTAN|       10280|NEW YORK|50 battery place ...|40.70628322913576|-74.01790411531843|1000160015|    00016|   0015|      3|Multi-Family Elev...|       D8|        X|DEMATTEIS BATTERY...|  31141|239165.0| 230765|   8400|     208|       209|        9|     1998|         0|         0|      BPC|    null|    40.7066674|    -74.0181639| MN000160015|\n",
      "|  60865217|04/15/2024 06:16:...|04/16/2024 03:02:...|2024-04-15 18:16:14|2024-04-16 15:02:52|            plumbing|WATER SUPPLY|      PLUMBING_ISSUE|Closed|         1|  MANHATTAN|       10280|NEW YORK|50 battery place ...|40.70628322913576|-74.01790411531843|1000160015|    00016|   0015|      3|Multi-Family Elev...|       D8|        X|DEMATTEIS BATTERY...|  31141|239165.0| 230765|   8400|     208|       209|        9|     1998|         0|         0|      BPC|    null|    40.7066674|    -74.0181639| MN000160015|\n",
      "|  52022655|09/28/2021 01:57:...|10/05/2021 08:45:...|2021-09-28 13:57:53|2021-10-05 20:45:03|unsanitary condition|        MOLD|UNSANITARY_CONDITION|Closed|         1|  MANHATTAN|       10280|NEW YORK|50 battery place ...|40.70628322913576|-74.01790411531843|1000160015|    00016|   0015|      3|Multi-Family Elev...|       D8|        X|DEMATTEIS BATTERY...|  31141|239165.0| 230765|   8400|     208|       209|        9|     1998|         0|         0|      BPC|    null|    40.7066674|    -74.0181639| MN000160015|\n",
      "+----------+--------------------+--------------------+-------------------+-------------------+--------------------+------------+--------------------+------+----------+-----------+------------+--------+--------------------+-----------------+------------------+----------+---------+-------+-------+--------------------+---------+---------+--------------------+-------+--------+-------+-------+--------+----------+---------+---------+----------+----------+---------+--------+--------------+---------------+------------+\n",
      "only showing top 5 rows"
     ]
    }
   ],
   "source": [
    "df = spark.read.parquet(\"s3://nyc-housing-complaints-g4/final/master_complaints_table/part-00000-0f889d5f-ac8a-43f6-a9bf-fc4787c6de99-c000.snappy.parquet\")\n",
    "df.show(5)"
   ]
  },
  {
   "cell_type": "code",
   "execution_count": 3,
   "metadata": {},
   "outputs": [
    {
     "data": {
      "application/vnd.jupyter.widget-view+json": {
       "model_id": "",
       "version_major": 2,
       "version_minor": 0
      },
      "text/plain": [
       "FloatProgress(value=0.0, bar_style='info', description='Progress:', layout=Layout(height='25px', width='50%'),…"
      ]
     },
     "metadata": {},
     "output_type": "display_data"
    },
    {
     "name": "stdout",
     "output_type": "stream",
     "text": [
      "11136112"
     ]
    }
   ],
   "source": [
    "# Row and column count\n",
    "row_count = df.count()\n",
    "\n",
    "row_count"
   ]
  },
  {
   "cell_type": "code",
   "execution_count": 4,
   "metadata": {},
   "outputs": [
    {
     "data": {
      "application/vnd.jupyter.widget-view+json": {
       "model_id": "",
       "version_major": 2,
       "version_minor": 0
      },
      "text/plain": [
       "FloatProgress(value=0.0, bar_style='info', description='Progress:', layout=Layout(height='25px', width='50%'),…"
      ]
     },
     "metadata": {},
     "output_type": "display_data"
    },
    {
     "name": "stdout",
     "output_type": "stream",
     "text": [
      "39"
     ]
    }
   ],
   "source": [
    "col_count = len(df.columns)\n",
    "col_count\n",
    "\n"
   ]
  },
  {
   "cell_type": "code",
   "execution_count": 5,
   "metadata": {},
   "outputs": [
    {
     "data": {
      "application/vnd.jupyter.widget-view+json": {
       "model_id": "",
       "version_major": 2,
       "version_minor": 0
      },
      "text/plain": [
       "FloatProgress(value=0.0, bar_style='info', description='Progress:', layout=Layout(height='25px', width='50%'),…"
      ]
     },
     "metadata": {},
     "output_type": "display_data"
    },
    {
     "name": "stdout",
     "output_type": "stream",
     "text": [
      "+----------+------------+-----------+------------------+-----------------+--------------+----------+------------------+------+----------+-------+------------+------+------------+--------+---------+-------+---------+-------+-------+----------------+---------+---------+---------+-------+--------+-------+-------+--------+----------+---------+---------+----------+----------+---------+--------+--------------+---------------+------------+\n",
      "|Unique_Key|Created_Date|Closed_Date|created_date_stand|closed_date_stand|complaint_type|Descriptor|complaint_category|Status|validation|borough|Incident_Zip|  City|full_address|Latitude|Longitude|    bbl|tax_block|tax_lot|landuse|landuse_category|bldgclass|ownertype|ownername|lotarea|bldgarea|resarea|comarea|unitsres|unitstotal|numfloors|yearbuilt|yearalter1|yearalter2|zonedist1|overlay1|latitude_pluto|longitude_pluto|bbl_standard|\n",
      "+----------+------------+-----------+------------------+-----------------+--------------+----------+------------------+------+----------+-------+------------+------+------------+--------+---------+-------+---------+-------+-------+----------------+---------+---------+---------+-------+--------+-------+-------+--------+----------+---------+---------+----------+----------+---------+--------+--------------+---------------+------------+\n",
      "|         0|           0|     137992|                 0|           137992|             0|      7098|                 0|     0|         0|     12|      260501|259741|           0|  260441|   260441|1847717|  1892015|1892015|1892015|         1892015|  1892015| 10141604|  1892073|1892039| 1892015|1946641|1946641| 1892015|   1892015|  1928206|  1892015|   1892015|   1892015|  1892322| 9338963|       1892121|        1892121|     1892015|\n",
      "+----------+------------+-----------+------------------+-----------------+--------------+----------+------------------+------+----------+-------+------------+------+------------+--------+---------+-------+---------+-------+-------+----------------+---------+---------+---------+-------+--------+-------+-------+--------+----------+---------+---------+----------+----------+---------+--------+--------------+---------------+------------+"
     ]
    }
   ],
   "source": [
    "from pyspark.sql.functions import col, sum\n",
    "#null count\n",
    "null_counts = df.select([sum(col(c).isNull().cast(\"int\")).alias(c) for c in df.columns])\n",
    "null_counts.show()"
   ]
  },
  {
   "cell_type": "code",
   "execution_count": 6,
   "metadata": {},
   "outputs": [
    {
     "data": {
      "application/vnd.jupyter.widget-view+json": {
       "model_id": "",
       "version_major": 2,
       "version_minor": 0
      },
      "text/plain": [
       "FloatProgress(value=0.0, bar_style='info', description='Progress:', layout=Layout(height='25px', width='50%'),…"
      ]
     },
     "metadata": {},
     "output_type": "display_data"
    },
    {
     "name": "stdout",
     "output_type": "stream",
     "text": [
      "+------------------+----------+\n",
      "|Column            |Null_Count|\n",
      "+------------------+----------+\n",
      "|Unique_Key        |0         |\n",
      "|Created_Date      |0         |\n",
      "|Closed_Date       |137992    |\n",
      "|created_date_stand|0         |\n",
      "|closed_date_stand |137992    |\n",
      "|complaint_type    |0         |\n",
      "|Descriptor        |7098      |\n",
      "|complaint_category|0         |\n",
      "|Status            |0         |\n",
      "|validation        |0         |\n",
      "|borough           |12        |\n",
      "|Incident_Zip      |260501    |\n",
      "|City              |259741    |\n",
      "|full_address      |0         |\n",
      "|Latitude          |260441    |\n",
      "|Longitude         |260441    |\n",
      "|bbl               |1847717   |\n",
      "|tax_block         |1892015   |\n",
      "|tax_lot           |1892015   |\n",
      "|landuse           |1892015   |\n",
      "|landuse_category  |1892015   |\n",
      "|bldgclass         |1892015   |\n",
      "|ownertype         |10141604  |\n",
      "|ownername         |1892073   |\n",
      "|lotarea           |1892039   |\n",
      "|bldgarea          |1892015   |\n",
      "|resarea           |1946641   |\n",
      "|comarea           |1946641   |\n",
      "|unitsres          |1892015   |\n",
      "|unitstotal        |1892015   |\n",
      "|numfloors         |1928206   |\n",
      "|yearbuilt         |1892015   |\n",
      "|yearalter1        |1892015   |\n",
      "|yearalter2        |1892015   |\n",
      "|zonedist1         |1892322   |\n",
      "|overlay1          |9338963   |\n",
      "|latitude_pluto    |1892121   |\n",
      "|longitude_pluto   |1892121   |\n",
      "|bbl_standard      |1892015   |\n",
      "+------------------+----------+"
     ]
    }
   ],
   "source": [
    "from pyspark.sql import functions as F\n",
    "\n",
    "# Calculate null counts (same as before)\n",
    "null_counts = df.select([F.sum(F.col(c).isNull().cast(\"int\")).alias(c) for c in df.columns])\n",
    "\n",
    "\n",
    "expr = \"stack({0}, {1}) as (Column, Null_Count)\".format(\n",
    "    len(df.columns),\n",
    "    \",\".join([\"'{0}', {0}\".format(c) for c in df.columns])\n",
    ")\n",
    "\n",
    "null_counts_rowwise = null_counts.selectExpr(expr)\n",
    "null_counts_rowwise.show(n=5000,truncate=False)"
   ]
  },
  {
   "cell_type": "code",
   "execution_count": 7,
   "metadata": {},
   "outputs": [
    {
     "data": {
      "application/vnd.jupyter.widget-view+json": {
       "model_id": "",
       "version_major": 2,
       "version_minor": 0
      },
      "text/plain": [
       "FloatProgress(value=0.0, bar_style='info', description='Progress:', layout=Layout(height='25px', width='50%'),…"
      ]
     },
     "metadata": {},
     "output_type": "display_data"
    }
   ],
   "source": [
    "# List of columns to drop\n",
    "drop_columns = [\n",
    "    'created_date_stand', 'closed_date_stand', 'validation', 'bbl', 'tax_block', \n",
    "    'tax_lot', 'landuse', 'landuse_category', 'bldgclass', 'ownertype', 'ownername', \n",
    "    'lotarea', 'bldgarea', 'resarea', 'comarea', 'unitsres', 'unitstotal', \n",
    "    'numfloors', 'yearbuilt', 'yearalter1', 'yearalter2', 'zonedist1', \n",
    "    'overlay1', 'latitude_pluto', 'longitude_pluto', 'bbl_standard'\n",
    "]\n",
    "\n",
    "# Drop columns from DataFrame\n",
    "df_cleaned = df.drop(*drop_columns)"
   ]
  },
  {
   "cell_type": "code",
   "execution_count": 8,
   "metadata": {},
   "outputs": [
    {
     "data": {
      "application/vnd.jupyter.widget-view+json": {
       "model_id": "",
       "version_major": 2,
       "version_minor": 0
      },
      "text/plain": [
       "FloatProgress(value=0.0, bar_style='info', description='Progress:', layout=Layout(height='25px', width='50%'),…"
      ]
     },
     "metadata": {},
     "output_type": "display_data"
    },
    {
     "name": "stdout",
     "output_type": "stream",
     "text": [
      "root\n",
      " |-- Unique_Key: string (nullable = true)\n",
      " |-- Created_Date: string (nullable = true)\n",
      " |-- Closed_Date: string (nullable = true)\n",
      " |-- complaint_type: string (nullable = true)\n",
      " |-- Descriptor: string (nullable = true)\n",
      " |-- complaint_category: string (nullable = true)\n",
      " |-- Status: string (nullable = true)\n",
      " |-- borough: string (nullable = true)\n",
      " |-- Incident_Zip: string (nullable = true)\n",
      " |-- City: string (nullable = true)\n",
      " |-- full_address: string (nullable = true)\n",
      " |-- Latitude: string (nullable = true)\n",
      " |-- Longitude: string (nullable = true)"
     ]
    }
   ],
   "source": [
    "\n",
    "# Verify columns after dropping\n",
    "df_cleaned.printSchema()"
   ]
  },
  {
   "cell_type": "code",
   "execution_count": 9,
   "metadata": {},
   "outputs": [
    {
     "data": {
      "application/vnd.jupyter.widget-view+json": {
       "model_id": "",
       "version_major": 2,
       "version_minor": 0
      },
      "text/plain": [
       "FloatProgress(value=0.0, bar_style='info', description='Progress:', layout=Layout(height='25px', width='50%'),…"
      ]
     },
     "metadata": {},
     "output_type": "display_data"
    }
   ],
   "source": [
    "from pyspark.sql.functions import to_timestamp\n",
    "\n",
    "df_cleaned = df_cleaned \\\n",
    "    .withColumn(\"Created_Date\", to_timestamp(\"Created_Date\", \"MM/dd/yyyy HH:mm:ss\")) \\\n",
    "    .withColumn(\"Closed_Date\", to_timestamp(\"Closed_Date\", \"MM/dd/yyyy HH:mm:ss\"))\n"
   ]
  },
  {
   "cell_type": "code",
   "execution_count": 10,
   "metadata": {},
   "outputs": [
    {
     "data": {
      "application/vnd.jupyter.widget-view+json": {
       "model_id": "",
       "version_major": 2,
       "version_minor": 0
      },
      "text/plain": [
       "FloatProgress(value=0.0, bar_style='info', description='Progress:', layout=Layout(height='25px', width='50%'),…"
      ]
     },
     "metadata": {},
     "output_type": "display_data"
    }
   ],
   "source": [
    "from pyspark.sql.functions import col\n",
    "\n",
    "df_cleaned = df_cleaned \\\n",
    "    .withColumn(\"Latitude\", col(\"Latitude\").cast(\"double\")) \\\n",
    "    .withColumn(\"Longitude\", col(\"Longitude\").cast(\"double\"))\n"
   ]
  },
  {
   "cell_type": "code",
   "execution_count": 11,
   "metadata": {},
   "outputs": [
    {
     "data": {
      "application/vnd.jupyter.widget-view+json": {
       "model_id": "",
       "version_major": 2,
       "version_minor": 0
      },
      "text/plain": [
       "FloatProgress(value=0.0, bar_style='info', description='Progress:', layout=Layout(height='25px', width='50%'),…"
      ]
     },
     "metadata": {},
     "output_type": "display_data"
    },
    {
     "name": "stdout",
     "output_type": "stream",
     "text": [
      "root\n",
      " |-- Unique_Key: string (nullable = true)\n",
      " |-- Created_Date: timestamp (nullable = true)\n",
      " |-- Closed_Date: timestamp (nullable = true)\n",
      " |-- complaint_type: string (nullable = true)\n",
      " |-- Descriptor: string (nullable = true)\n",
      " |-- complaint_category: string (nullable = true)\n",
      " |-- Status: string (nullable = true)\n",
      " |-- borough: string (nullable = true)\n",
      " |-- Incident_Zip: string (nullable = true)\n",
      " |-- City: string (nullable = true)\n",
      " |-- full_address: string (nullable = true)\n",
      " |-- Latitude: double (nullable = true)\n",
      " |-- Longitude: double (nullable = true)"
     ]
    }
   ],
   "source": [
    "df_cleaned.printSchema()"
   ]
  },
  {
   "cell_type": "code",
   "execution_count": 12,
   "metadata": {},
   "outputs": [
    {
     "data": {
      "application/vnd.jupyter.widget-view+json": {
       "model_id": "",
       "version_major": 2,
       "version_minor": 0
      },
      "text/plain": [
       "FloatProgress(value=0.0, bar_style='info', description='Progress:', layout=Layout(height='25px', width='50%'),…"
      ]
     },
     "metadata": {},
     "output_type": "display_data"
    },
    {
     "name": "stdout",
     "output_type": "stream",
     "text": [
      "+--------+---------+------------+-----------+\n",
      "|Latitude|Longitude|Created_Date|Closed_Date|\n",
      "+--------+---------+------------+-----------+\n",
      "|  260441|   260441|           0|     137992|\n",
      "+--------+---------+------------+-----------+"
     ]
    }
   ],
   "source": [
    "from pyspark.sql.functions import col, sum\n",
    "\n",
    "df_cleaned.select([\n",
    "    sum(col(c).isNull().cast(\"int\")).alias(c) \n",
    "    for c in [\"Latitude\", \"Longitude\", \"Created_Date\", \"Closed_Date\"]\n",
    "]).show()\n",
    "\n"
   ]
  },
  {
   "cell_type": "code",
   "execution_count": 13,
   "metadata": {},
   "outputs": [
    {
     "data": {
      "application/vnd.jupyter.widget-view+json": {
       "model_id": "",
       "version_major": 2,
       "version_minor": 0
      },
      "text/plain": [
       "FloatProgress(value=0.0, bar_style='info', description='Progress:', layout=Layout(height='25px', width='50%'),…"
      ]
     },
     "metadata": {},
     "output_type": "display_data"
    }
   ],
   "source": [
    "from pyspark.sql import functions as F\n",
    "\n",
    "# Fill missing Latitude/Longitude with average per borough\n",
    "avg_coords = df_cleaned.groupBy(\"borough\") \\\n",
    "    .agg(F.avg(\"Latitude\").alias(\"avg_lat\"), F.avg(\"Longitude\").alias(\"avg_lon\"))\n",
    "\n",
    "df_cleaned = df_cleaned.join(avg_coords, on=\"borough\", how=\"left\") \\\n",
    "    .withColumn(\"Latitude\", F.coalesce(\"Latitude\", \"avg_lat\")) \\\n",
    "    .withColumn(\"Longitude\", F.coalesce(\"Longitude\", \"avg_lon\")) \\\n",
    "    .drop(\"avg_lat\", \"avg_lon\")"
   ]
  },
  {
   "cell_type": "code",
   "execution_count": 14,
   "metadata": {},
   "outputs": [
    {
     "data": {
      "application/vnd.jupyter.widget-view+json": {
       "model_id": "",
       "version_major": 2,
       "version_minor": 0
      },
      "text/plain": [
       "FloatProgress(value=0.0, bar_style='info', description='Progress:', layout=Layout(height='25px', width='50%'),…"
      ]
     },
     "metadata": {},
     "output_type": "display_data"
    },
    {
     "name": "stdout",
     "output_type": "stream",
     "text": [
      "+--------+---------+------------+-----------+\n",
      "|Latitude|Longitude|Created_Date|Closed_Date|\n",
      "+--------+---------+------------+-----------+\n",
      "|      12|       12|           0|     137992|\n",
      "+--------+---------+------------+-----------+"
     ]
    }
   ],
   "source": [
    "from pyspark.sql.functions import col, sum\n",
    "\n",
    "df_cleaned.select([\n",
    "    sum(col(c).isNull().cast(\"int\")).alias(c) \n",
    "    for c in [\"Latitude\", \"Longitude\", \"Created_Date\", \"Closed_Date\"]\n",
    "]).show()\n"
   ]
  },
  {
   "cell_type": "code",
   "execution_count": 15,
   "metadata": {},
   "outputs": [
    {
     "data": {
      "application/vnd.jupyter.widget-view+json": {
       "model_id": "",
       "version_major": 2,
       "version_minor": 0
      },
      "text/plain": [
       "FloatProgress(value=0.0, bar_style='info', description='Progress:', layout=Layout(height='25px', width='50%'),…"
      ]
     },
     "metadata": {},
     "output_type": "display_data"
    },
    {
     "name": "stdout",
     "output_type": "stream",
     "text": [
      "Invalid Latitude Count: 0\n",
      "Invalid Longitude Count: 0"
     ]
    }
   ],
   "source": [
    "# checking for invalid numerical values\n",
    "invalid_lat = df_cleaned.filter((col(\"Latitude\") < -90) | (col(\"Latitude\") > 90))\n",
    "invalid_lon = df_cleaned.filter((col(\"Longitude\") < -180) | (col(\"Longitude\") > 180))\n",
    "\n",
    "print(\"Invalid Latitude Count:\", invalid_lat.count())\n",
    "print(\"Invalid Longitude Count:\", invalid_lon.count())"
   ]
  },
  {
   "cell_type": "code",
   "execution_count": 16,
   "metadata": {},
   "outputs": [
    {
     "data": {
      "application/vnd.jupyter.widget-view+json": {
       "model_id": "",
       "version_major": 2,
       "version_minor": 0
      },
      "text/plain": [
       "FloatProgress(value=0.0, bar_style='info', description='Progress:', layout=Layout(height='25px', width='50%'),…"
      ]
     },
     "metadata": {},
     "output_type": "display_data"
    },
    {
     "name": "stdout",
     "output_type": "stream",
     "text": [
      "+------------------+-----------------+\n",
      "|Created_Date_nulls|Closed_Date_nulls|\n",
      "+------------------+-----------------+\n",
      "|                 0|           137992|\n",
      "+------------------+-----------------+"
     ]
    }
   ],
   "source": [
    "# Count invalid (null) dates\n",
    "df_cleaned.select([\n",
    "    sum(col(c).isNull().cast(\"int\")).alias(f\"{c}_nulls\") \n",
    "    for c in [\"Created_Date\", \"Closed_Date\"]\n",
    "]).show()"
   ]
  },
  {
   "cell_type": "code",
   "execution_count": 17,
   "metadata": {},
   "outputs": [
    {
     "data": {
      "application/vnd.jupyter.widget-view+json": {
       "model_id": "",
       "version_major": 2,
       "version_minor": 0
      },
      "text/plain": [
       "FloatProgress(value=0.0, bar_style='info', description='Progress:', layout=Layout(height='25px', width='50%'),…"
      ]
     },
     "metadata": {},
     "output_type": "display_data"
    },
    {
     "name": "stdout",
     "output_type": "stream",
     "text": [
      "Closed_Date earlier than Created_Date: 135790"
     ]
    }
   ],
   "source": [
    "# Check for closed dates earlier than created dates\n",
    "invalid_dates = df_cleaned.filter(col(\"Closed_Date\") < col(\"Created_Date\"))\n",
    "print(\"Closed_Date earlier than Created_Date:\", invalid_dates.count())\n"
   ]
  },
  {
   "cell_type": "code",
   "execution_count": 18,
   "metadata": {},
   "outputs": [
    {
     "data": {
      "application/vnd.jupyter.widget-view+json": {
       "model_id": "",
       "version_major": 2,
       "version_minor": 0
      },
      "text/plain": [
       "FloatProgress(value=0.0, bar_style='info', description='Progress:', layout=Layout(height='25px', width='50%'),…"
      ]
     },
     "metadata": {},
     "output_type": "display_data"
    }
   ],
   "source": [
    "#  Replace Closed_Date nulls with \"Open\"\n",
    "# If the complaint is still open, it makes sense to mark Closed_Date as \"Open\" or a placeholder\n",
    "from pyspark.sql.functions import when, lit\n",
    "\n",
    "df_cleaned = df_cleaned.withColumn(\n",
    "    \"Closed_Date\",\n",
    "    when(col(\"Closed_Date\").isNull(), lit(\"Open\")).otherwise(col(\"Closed_Date\"))\n",
    ")"
   ]
  },
  {
   "cell_type": "code",
   "execution_count": 19,
   "metadata": {},
   "outputs": [
    {
     "data": {
      "application/vnd.jupyter.widget-view+json": {
       "model_id": "",
       "version_major": 2,
       "version_minor": 0
      },
      "text/plain": [
       "FloatProgress(value=0.0, bar_style='info', description='Progress:', layout=Layout(height='25px', width='50%'),…"
      ]
     },
     "metadata": {},
     "output_type": "display_data"
    },
    {
     "name": "stdout",
     "output_type": "stream",
     "text": [
      "+-----------------+\n",
      "|Closed_Date_nulls|\n",
      "+-----------------+\n",
      "|                0|\n",
      "+-----------------+"
     ]
    }
   ],
   "source": [
    "from pyspark.sql.functions import col, sum\n",
    "\n",
    "# Re-check if any nulls still exist in Closed_Date\n",
    "df_cleaned.select(\n",
    "    sum(col(\"Closed_Date\").isNull().cast(\"int\")).alias(\"Closed_Date_nulls\")\n",
    ").show()\n"
   ]
  },
  {
   "cell_type": "code",
   "execution_count": 20,
   "metadata": {},
   "outputs": [
    {
     "data": {
      "application/vnd.jupyter.widget-view+json": {
       "model_id": "",
       "version_major": 2,
       "version_minor": 0
      },
      "text/plain": [
       "FloatProgress(value=0.0, bar_style='info', description='Progress:', layout=Layout(height='25px', width='50%'),…"
      ]
     },
     "metadata": {},
     "output_type": "display_data"
    },
    {
     "name": "stdout",
     "output_type": "stream",
     "text": [
      "+--------+----------+-------------------+-----------+--------------------+----------+------------------+------+------------+--------+--------------------+----------------+------------------+\n",
      "| borough|Unique_Key|       Created_Date|Closed_Date|      complaint_type|Descriptor|complaint_category|Status|Incident_Zip|    City|        full_address|        Latitude|         Longitude|\n",
      "+--------+----------+-------------------+-----------+--------------------+----------+------------------+------+------------+--------+--------------------+----------------+------------------+\n",
      "|BROOKLYN|  20228670|2011-04-13 12:00:00|       Open|            electric|  LIGHTING|  ELECTRICAL_ISSUE|  Open|       11220|BROOKLYN|740 59 street 59 ...|40.6368193821522|-74.01020019903407|\n",
      "|BROOKLYN|  20230671|2011-04-13 12:00:00|       Open|     paint - plaster|   CEILING|     PAINT_PLASTER|  Open|       11220|BROOKLYN|740 59 street 59 ...|40.6368193821522|-74.01020019903407|\n",
      "|BROOKLYN|  20201537|2011-04-08 12:00:00|       Open|             heating|      HEAT|        HEAT_ISSUE|  Open|       11220|BROOKLYN|740 59 street 59 ...|40.6368193821522|-74.01020019903407|\n",
      "|BROOKLYN|  20276626|2011-04-20 12:00:00|       Open|general construction|      MOLD|      CONSTRUCTION|  Open|       11220|BROOKLYN|740 59 street 59 ...|40.6368193821522|-74.01020019903407|\n",
      "|BROOKLYN|  20491394|2011-05-23 12:00:00|       Open|     paint - plaster|   CEILING|     PAINT_PLASTER|  Open|       11220|BROOKLYN|740 59 street 59 ...|40.6368193821522|-74.01020019903407|\n",
      "+--------+----------+-------------------+-----------+--------------------+----------+------------------+------+------------+--------+--------------------+----------------+------------------+\n",
      "only showing top 5 rows"
     ]
    }
   ],
   "source": [
    "# View some rows with \"Open\"\n",
    "df_cleaned.filter(col(\"Closed_Date\") == \"Open\").show(5)\n"
   ]
  },
  {
   "cell_type": "code",
   "execution_count": 21,
   "metadata": {},
   "outputs": [
    {
     "data": {
      "application/vnd.jupyter.widget-view+json": {
       "model_id": "",
       "version_major": 2,
       "version_minor": 0
      },
      "text/plain": [
       "FloatProgress(value=0.0, bar_style='info', description='Progress:', layout=Layout(height='25px', width='50%'),…"
      ]
     },
     "metadata": {},
     "output_type": "display_data"
    },
    {
     "name": "stdout",
     "output_type": "stream",
     "text": [
      "+--------+---------+------------+-----------+\n",
      "|Latitude|Longitude|Created_Date|Closed_Date|\n",
      "+--------+---------+------------+-----------+\n",
      "|      12|       12|           0|          0|\n",
      "+--------+---------+------------+-----------+"
     ]
    }
   ],
   "source": [
    "from pyspark.sql.functions import col, sum\n",
    "\n",
    "df_cleaned.select([\n",
    "    sum(col(c).isNull().cast(\"int\")).alias(c) \n",
    "    for c in [\"Latitude\", \"Longitude\", \"Created_Date\", \"Closed_Date\"]\n",
    "]).show()\n"
   ]
  },
  {
   "cell_type": "code",
   "execution_count": 24,
   "metadata": {},
   "outputs": [
    {
     "data": {
      "application/vnd.jupyter.widget-view+json": {
       "model_id": "",
       "version_major": 2,
       "version_minor": 0
      },
      "text/plain": [
       "FloatProgress(value=0.0, bar_style='info', description='Progress:', layout=Layout(height='25px', width='50%'),…"
      ]
     },
     "metadata": {},
     "output_type": "display_data"
    }
   ],
   "source": [
    "df_cleaned.coalesce(1).write \\\n",
    "    .mode(\"overwrite\") \\\n",
    "    .option(\"header\", \"true\") \\\n",
    "    .parquet(\"s3://bigdata-project-handlemissing/mater_table_after_nulls/\")\n"
   ]
  },
  {
   "cell_type": "code",
   "execution_count": null,
   "metadata": {},
   "outputs": [],
   "source": []
  }
 ],
 "metadata": {
  "kernelspec": {
   "display_name": "PySpark",
   "language": "",
   "name": "pysparkkernel"
  },
  "language_info": {
   "codemirror_mode": {
    "name": "python",
    "version": 3
   },
   "mimetype": "text/x-python",
   "name": "pyspark",
   "pygments_lexer": "python3"
  }
 },
 "nbformat": 4,
 "nbformat_minor": 4
}
